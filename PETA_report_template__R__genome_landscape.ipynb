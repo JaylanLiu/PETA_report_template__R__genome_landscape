{
 "cells": [
  {
   "cell_type": "code",
   "execution_count": null,
   "metadata": {
    "tags": [
     "parameters"
    ]
   },
   "outputs": [],
   "source": [
    "token='e6e35b82-5430-4f25-b584-ab400d826c1c'\n",
    "json_str='{\"studyIds\":[\"blca_mskcc_solit_2014\"],\"pageSize\":999999,\"pageIndex\":1,\"attributesRangeFilters\":[],\"attributesEqualFilters\":[],\"mutationFilter\":{\"hugoGeneSymbols\":[],\"exacStart\":0,\"exadEnd\":1,\"vabundStart\":0,\"vabundEnd\":1,\"variantSource\":[],\"variantType\":[],\"variantClass\":[],\"sequencer\":[],\"sequencerSource\":[],\"searchStr\":\"\"}}'\n",
    "host='https://peta.bgi.com/api'"
   ]
  },
  {
   "cell_type": "code",
   "execution_count": null,
   "metadata": {
    "tags": [
     "hide"
    ]
   },
   "outputs": [],
   "source": [
    "# 启动python环境，并载入包\n",
    "tryCatch({\n",
    "    library(reticulate)\n",
    "    use_condaenv(\"r-reticulate\")\n",
    "    library(maftools)   \n",
    " },error=function(e){\n",
    "     print(e)\n",
    " } )"
   ]
  },
  {
   "cell_type": "code",
   "execution_count": null,
   "metadata": {
    "tags": [
     "hide",
     "interaction"
    ]
   },
   "outputs": [],
   "source": [
    "# 调用pypeta获取数据\n",
    "tryCatch({\n",
    "    pypyta<- import(\"pypeta\")\n",
    "    peta<-pypyta$Peta(token=token,host=host)\n",
    "    peta$set_data_restriction_from_json_string(json_str)\n",
    "    mut<-peta$fetch_mutation_data()\n",
    "    mut<-mut[which(mut$NCBI_Build != 'NA'),]\n",
    "    cli<-peta$fetch_clinical_data()\n",
    "    names(cli)[names(cli) =='sampleId'] <- 'Tumor_Sample_Barcode'\n",
    " },error=function(e){\n",
    "     print(e)\n",
    " } )"
   ]
  },
  {
   "cell_type": "code",
   "execution_count": null,
   "metadata": {
    "tags": [
     "hide"
    ]
   },
   "outputs": [],
   "source": [
    "tryCatch({\n",
    "    library(maftools)    \n",
    "    laml = read.maf(maf = mut,clinicalData=cli,verbose = F)\n",
    "\n",
    " },error=function(e){\n",
    "     print(e)\n",
    " } )\n"
   ]
  },
  {
   "cell_type": "markdown",
   "metadata": {},
   "source": [
    "# 数据选择条件"
   ]
  },
  {
   "cell_type": "code",
   "execution_count": null,
   "metadata": {
    "tags": [
     "output"
    ]
   },
   "outputs": [],
   "source": [
    "tryCatch({\n",
    "    json<-import(\"json\")\n",
    "    json$loads(json_str)\n",
    "    pypyta$filter_description(json_str)\n",
    " },error=function(e){\n",
    "     print(e)\n",
    " } )\n"
   ]
  },
  {
   "cell_type": "markdown",
   "metadata": {},
   "source": [
    "# 基因组特征"
   ]
  },
  {
   "cell_type": "markdown",
   "metadata": {},
   "source": [
    "## 临床属性分布\n",
    "暂未实现"
   ]
  },
  {
   "cell_type": "markdown",
   "metadata": {},
   "source": [
    "## 样本级别变异分布"
   ]
  },
  {
   "cell_type": "code",
   "execution_count": null,
   "metadata": {
    "tags": [
     "output"
    ]
   },
   "outputs": [],
   "source": [
    "\n",
    "tryCatch({\n",
    "     #Shows sample summry.\n",
    "    getSampleSummary(laml)\n",
    " },error=function(e){\n",
    "     print(e)\n",
    " } )"
   ]
  },
  {
   "cell_type": "markdown",
   "metadata": {},
   "source": [
    "## 基因水平变异分布"
   ]
  },
  {
   "cell_type": "code",
   "execution_count": null,
   "metadata": {
    "tags": [
     "output"
    ]
   },
   "outputs": [],
   "source": [
    "\n",
    "tryCatch({\n",
    "     #Shows gene summary.\n",
    "    getGeneSummary(laml)\n",
    " },error=function(e){\n",
    "     print(e)\n",
    " } )"
   ]
  },
  {
   "cell_type": "markdown",
   "metadata": {},
   "source": [
    "## 变异图谱"
   ]
  },
  {
   "cell_type": "code",
   "execution_count": null,
   "metadata": {
    "tags": [
     "output"
    ]
   },
   "outputs": [],
   "source": [
    "\n",
    "tryCatch({\n",
    "     suppressMessages(suppressWarnings(oncoplot(maf = laml, top = 10)))\n",
    "\n",
    " },error=function(e){\n",
    "     print(e)\n",
    " } )\n",
    "\n"
   ]
  },
  {
   "cell_type": "markdown",
   "metadata": {},
   "source": [
    "## 变异分布特性图示"
   ]
  },
  {
   "cell_type": "code",
   "execution_count": null,
   "metadata": {
    "scrolled": false,
    "tags": [
     "output"
    ]
   },
   "outputs": [],
   "source": [
    " tryCatch({\n",
    "      suppressMessages(suppressWarnings(plotmafSummary(maf = laml, rmOutlier = TRUE, addStat = 'median', dashboard = TRUE, titvRaw = FALSE)))\n",
    " },error=function(e){\n",
    "     print(e)\n",
    " } )"
   ]
  },
  {
   "cell_type": "markdown",
   "metadata": {},
   "source": [
    "## Ti/Tv "
   ]
  },
  {
   "cell_type": "code",
   "execution_count": null,
   "metadata": {
    "tags": [
     "output"
    ]
   },
   "outputs": [],
   "source": [
    "tryCatch({\n",
    "     laml.titv = titv(maf = laml, plot = FALSE, useSyn = TRUE)\n",
    "     suppressMessages(suppressWarnings(plotTiTv(res = laml.titv)))\n",
    " },error=function(e){\n",
    "     print(e)\n",
    " } )"
   ]
  },
  {
   "cell_type": "markdown",
   "metadata": {},
   "source": [
    "## TMB 与 TCGA比较 "
   ]
  },
  {
   "cell_type": "code",
   "execution_count": null,
   "metadata": {
    "tags": [
     "output"
    ]
   },
   "outputs": [],
   "source": [
    "tryCatch({\n",
    "     laml.mutload =  suppressMessages(suppressWarnings(tcgaCompare(maf = laml, cohortName = 'Selected')))\n",
    " },error=function(e){\n",
    "     print(e)\n",
    " } )"
   ]
  },
  {
   "cell_type": "markdown",
   "metadata": {},
   "source": [
    "## 突变基因云图"
   ]
  },
  {
   "cell_type": "code",
   "execution_count": null,
   "metadata": {
    "tags": [
     "output"
    ]
   },
   "outputs": [],
   "source": [
    "tryCatch({\n",
    "      suppressMessages(suppressWarnings(geneCloud(input = laml, minMut = 2)))\n",
    " },error=function(e){\n",
    "     print(e)\n",
    " } )"
   ]
  },
  {
   "cell_type": "markdown",
   "metadata": {},
   "source": [
    "## 突变互斥共存特征分析"
   ]
  },
  {
   "cell_type": "code",
   "execution_count": null,
   "metadata": {
    "tags": [
     "output"
    ]
   },
   "outputs": [],
   "source": [
    "\n",
    "tryCatch({    \n",
    "     suppressMessages(suppressWarnings(somaticInteractions(maf = laml, top = 25, pvalue = c(0.05, 0.1))))\n",
    "\n",
    " },error=function(e){\n",
    "     print(e)\n",
    " } )"
   ]
  }
 ],
 "metadata": {
  "celltoolbar": "Tags",
  "kernelspec": {
   "display_name": "R",
   "language": "R",
   "name": "ir"
  },
  "language_info": {
   "codemirror_mode": "r",
   "file_extension": ".r",
   "mimetype": "text/x-r-source",
   "name": "R",
   "pygments_lexer": "r",
   "version": "3.5.1"
  },
  "toc": {
   "base_numbering": 1,
   "nav_menu": {},
   "number_sections": true,
   "sideBar": true,
   "skip_h1_title": false,
   "title_cell": "Table of Contents",
   "title_sidebar": "Contents",
   "toc_cell": false,
   "toc_position": {},
   "toc_section_display": true,
   "toc_window_display": false
  }
 },
 "nbformat": 4,
 "nbformat_minor": 2
}
